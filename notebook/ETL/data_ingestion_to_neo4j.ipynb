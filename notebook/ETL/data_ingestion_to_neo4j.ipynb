{
 "cells": [
  {
   "cell_type": "markdown",
   "metadata": {},
   "source": [
    "### Data Ingestion to Neo4j"
   ]
  },
  {
   "cell_type": "code",
   "execution_count": 2,
   "metadata": {
    "ExecuteTime": {
     "end_time": "2020-01-03T11:28:47.905263Z",
     "start_time": "2020-01-03T11:28:47.898775Z"
    }
   },
   "outputs": [],
   "source": [
    "from py2neo import Graph\n",
    "from py2neo import Node,Relationship\n",
    "import pandas as pd"
   ]
  },
  {
   "cell_type": "code",
   "execution_count": 3,
   "metadata": {
    "ExecuteTime": {
     "end_time": "2020-01-03T11:28:51.642584Z",
     "start_time": "2020-01-03T11:28:51.148761Z"
    }
   },
   "outputs": [],
   "source": [
    "remote_graph = Graph(\"bolt://localhost:7687\",user = \"neo4j\",password = \"1234\")"
   ]
  },
  {
   "cell_type": "code",
   "execution_count": 4,
   "metadata": {
    "ExecuteTime": {
     "end_time": "2020-01-03T11:33:52.279706Z",
     "start_time": "2020-01-03T11:33:52.272114Z"
    }
   },
   "outputs": [],
   "source": [
    "path = 'D:/Users/rdemaio/Desktop/Practice ML/indago_arxiv/data/processed/'\n",
    "filename = 's_pap_to_ingest_neo4j.csv'"
   ]
  },
  {
   "cell_type": "code",
   "execution_count": 20,
   "metadata": {
    "ExecuteTime": {
     "end_time": "2020-01-03T11:46:21.892054Z",
     "start_time": "2020-01-03T11:46:20.490462Z"
    }
   },
   "outputs": [],
   "source": [
    "df = pd.read_csv(path + filename)\n",
    "df.authors = df.authors.apply(lambda x: x.strip('[]').replace(\"'\",'').split(','))\n",
    "df.categories = df.categories.apply(lambda x: x.strip('[]').replace(\"'\",'').split(','))"
   ]
  },
  {
   "cell_type": "code",
   "execution_count": 22,
   "metadata": {
    "ExecuteTime": {
     "end_time": "2020-01-03T12:54:18.462466Z",
     "start_time": "2020-01-03T11:47:31.461956Z"
    }
   },
   "outputs": [
    {
     "name": "stdout",
     "output_type": "stream",
     "text": [
      "Reached paper index: 0\n",
      "\n",
      "Reached paper index: 1000\n",
      "\n",
      "Reached paper index: 2000\n",
      "\n",
      "Reached paper index: 3000\n",
      "\n",
      "Reached paper index: 4000\n",
      "\n",
      "Reached paper index: 5000\n",
      "\n",
      "Reached paper index: 6000\n",
      "\n",
      "Reached paper index: 7000\n",
      "\n",
      "Reached paper index: 8000\n",
      "\n",
      "Reached paper index: 9000\n",
      "\n",
      "Reached paper index: 10000\n",
      "\n",
      "Reached paper index: 11000\n",
      "\n",
      "Reached paper index: 12000\n",
      "\n",
      "Reached paper index: 13000\n",
      "\n",
      "Reached paper index: 14000\n",
      "\n",
      "Reached paper index: 15000\n",
      "\n",
      "Reached paper index: 16000\n",
      "\n",
      "Reached paper index: 17000\n",
      "\n",
      "Reached paper index: 18000\n",
      "\n",
      "Reached paper index: 19000\n",
      "\n",
      "Reached paper index: 20000\n",
      "\n",
      "Reached paper index: 21000\n",
      "\n",
      "Reached paper index: 22000\n",
      "\n",
      "Reached paper index: 23000\n",
      "\n",
      "Reached paper index: 24000\n",
      "\n",
      "Reached paper index: 25000\n",
      "\n",
      "Reached paper index: 26000\n",
      "\n",
      "Reached paper index: 27000\n",
      "\n",
      "Reached paper index: 28000\n",
      "\n",
      "Reached paper index: 29000\n",
      "\n",
      "Reached paper index: 30000\n",
      "\n",
      "Reached paper index: 31000\n",
      "\n",
      "Reached paper index: 32000\n",
      "\n",
      "Reached paper index: 33000\n",
      "\n",
      "Reached paper index: 34000\n",
      "\n",
      "Reached paper index: 35000\n",
      "\n",
      "Reached paper index: 36000\n",
      "\n",
      "Reached paper index: 37000\n",
      "\n",
      "Reached paper index: 38000\n",
      "\n",
      "Reached paper index: 39000\n",
      "\n"
     ]
    }
   ],
   "source": [
    "AUTHORED_BY = Relationship.type(\"AUTHORED_BY\")\n",
    "CATEGORIZED_AS = Relationship.type(\"CATEGORIZED_AS\")\n",
    "\n",
    "for index, row in df.iterrows():\n",
    "    a = Node(\"Paper\", arxiv_id = row.id, title = row.title, abstract = row.abstract)\n",
    "    a.__primarylabel__ = \"Paper\"\n",
    "    a.__primarykey__ = \"arxiv_id\"\n",
    "    for author in row.authors:\n",
    "        b = Node(\"Author\", name = author)\n",
    "        b.__primarylabel__ = \"Author\"\n",
    "        b.__primarykey__ = \"name\"\n",
    "        remote_graph.merge(AUTHORED_BY(a, b))\n",
    "    for category in row.categories:\n",
    "        c = Node(\"Category\", category = category, macrocategory = category.split('.')[0])\n",
    "        c.__primarylabel__ = \"Category\"\n",
    "        c.__primarykey__ = \"category\"\n",
    "        remote_graph.merge(CATEGORIZED_AS(a,c))\n",
    "    if index%1000==0:\n",
    "        print('Reached paper index: '+ str(index)+ '\\n')"
   ]
  },
  {
   "cell_type": "code",
   "execution_count": null,
   "metadata": {},
   "outputs": [],
   "source": []
  }
 ],
 "metadata": {
  "hide_input": false,
  "kernelspec": {
   "display_name": "Python 3",
   "language": "python",
   "name": "python3"
  },
  "language_info": {
   "codemirror_mode": {
    "name": "ipython",
    "version": 3
   },
   "file_extension": ".py",
   "mimetype": "text/x-python",
   "name": "python",
   "nbconvert_exporter": "python",
   "pygments_lexer": "ipython3",
   "version": "3.7.5"
  },
  "varInspector": {
   "cols": {
    "lenName": 16,
    "lenType": 16,
    "lenVar": 40
   },
   "kernels_config": {
    "python": {
     "delete_cmd_postfix": "",
     "delete_cmd_prefix": "del ",
     "library": "var_list.py",
     "varRefreshCmd": "print(var_dic_list())"
    },
    "r": {
     "delete_cmd_postfix": ") ",
     "delete_cmd_prefix": "rm(",
     "library": "var_list.r",
     "varRefreshCmd": "cat(var_dic_list()) "
    }
   },
   "types_to_exclude": [
    "module",
    "function",
    "builtin_function_or_method",
    "instance",
    "_Feature"
   ],
   "window_display": false
  }
 },
 "nbformat": 4,
 "nbformat_minor": 2
}
