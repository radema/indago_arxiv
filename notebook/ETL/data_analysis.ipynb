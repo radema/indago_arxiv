{
 "cells": [
  {
   "cell_type": "code",
   "execution_count": 1,
   "metadata": {
    "ExecuteTime": {
     "end_time": "2019-12-24T13:55:10.202730Z",
     "start_time": "2019-12-24T13:55:10.192552Z"
    }
   },
   "outputs": [],
   "source": [
    "source_path = 'D:/Users/rdemaio/Desktop/Practice ML/indago_arxiv/data/source/'\n",
    "filename = 'sourcesample_v2017.csv'"
   ]
  },
  {
   "cell_type": "code",
   "execution_count": 121,
   "metadata": {
    "ExecuteTime": {
     "end_time": "2019-12-24T14:57:30.371693Z",
     "start_time": "2019-12-24T14:57:30.365345Z"
    }
   },
   "outputs": [],
   "source": [
    "import pandas as pd\n",
    "import qgrid\n",
    "from functools import reduce\n",
    "import collections"
   ]
  },
  {
   "cell_type": "code",
   "execution_count": 3,
   "metadata": {
    "ExecuteTime": {
     "end_time": "2019-12-24T13:55:19.843797Z",
     "start_time": "2019-12-24T13:55:19.315066Z"
    }
   },
   "outputs": [],
   "source": [
    "df = pd.read_csv(source_path + filename)\n",
    "df.columns = ['index', 'id', 'title', 'categories', 'abstract', 'updated', 'authors']"
   ]
  },
  {
   "cell_type": "code",
   "execution_count": 18,
   "metadata": {
    "ExecuteTime": {
     "end_time": "2019-12-24T14:03:16.360989Z",
     "start_time": "2019-12-24T14:03:16.338782Z"
    }
   },
   "outputs": [
    {
     "data": {
      "text/html": [
       "<div>\n",
       "<style scoped>\n",
       "    .dataframe tbody tr th:only-of-type {\n",
       "        vertical-align: middle;\n",
       "    }\n",
       "\n",
       "    .dataframe tbody tr th {\n",
       "        vertical-align: top;\n",
       "    }\n",
       "\n",
       "    .dataframe thead th {\n",
       "        text-align: right;\n",
       "    }\n",
       "</style>\n",
       "<table border=\"1\" class=\"dataframe\">\n",
       "  <thead>\n",
       "    <tr style=\"text-align: right;\">\n",
       "      <th></th>\n",
       "      <th>index</th>\n",
       "      <th>id</th>\n",
       "      <th>title</th>\n",
       "      <th>categories</th>\n",
       "      <th>abstract</th>\n",
       "      <th>updated</th>\n",
       "      <th>authors</th>\n",
       "    </tr>\n",
       "  </thead>\n",
       "  <tbody>\n",
       "    <tr>\n",
       "      <th>0</th>\n",
       "      <td>0</td>\n",
       "      <td>1208.3386</td>\n",
       "      <td>existence of a martingale solution of the stoc...</td>\n",
       "      <td>math.pr math.ap</td>\n",
       "      <td>stochastic navier-stokes equations in 2d and 3...</td>\n",
       "      <td>2017-01-02</td>\n",
       "      <td>['zdzisław brzeźniak', 'elżbieta motyl']</td>\n",
       "    </tr>\n",
       "    <tr>\n",
       "      <th>1</th>\n",
       "      <td>1</td>\n",
       "      <td>1211.5816</td>\n",
       "      <td>general smooth solutions to the hjb pde: appli...</td>\n",
       "      <td>q-fin.pm math.ap</td>\n",
       "      <td>we overcome a major obstacle in mathematical o...</td>\n",
       "      <td>2017-01-06</td>\n",
       "      <td>['moawia alghalith']</td>\n",
       "    </tr>\n",
       "    <tr>\n",
       "      <th>2</th>\n",
       "      <td>2</td>\n",
       "      <td>1302.5248</td>\n",
       "      <td>elastic splines i: existence</td>\n",
       "      <td>math.na</td>\n",
       "      <td>given interpolation points $p_1,p_2,\\ldots,p_n...</td>\n",
       "      <td>2017-01-02</td>\n",
       "      <td>['albert borbely', 'michael j. johnson']</td>\n",
       "    </tr>\n",
       "    <tr>\n",
       "      <th>3</th>\n",
       "      <td>3</td>\n",
       "      <td>1304.2967</td>\n",
       "      <td>log-majorization of the moduli of the eigenval...</td>\n",
       "      <td>math.sp math.na</td>\n",
       "      <td>we show that the sequence of moduli of the eig...</td>\n",
       "      <td>2016-11-03</td>\n",
       "      <td>['marianne akian', 'stephane gaubert', 'meisam...</td>\n",
       "    </tr>\n",
       "    <tr>\n",
       "      <th>4</th>\n",
       "      <td>4</td>\n",
       "      <td>1308.1005</td>\n",
       "      <td>the profinite dimensional manifold structure o...</td>\n",
       "      <td>math.ap math-ph math.dg math.mp</td>\n",
       "      <td>in this paper, we study the formal solution sp...</td>\n",
       "      <td>2017-01-10</td>\n",
       "      <td>['batu güneysu', 'markus j. pflaum']</td>\n",
       "    </tr>\n",
       "    <tr>\n",
       "      <th>5</th>\n",
       "      <td>5</td>\n",
       "      <td>1309.4305</td>\n",
       "      <td>an almost symmetric strang splitting scheme fo...</td>\n",
       "      <td>math.na</td>\n",
       "      <td>in this paper we consider splitting methods fo...</td>\n",
       "      <td>NaN</td>\n",
       "      <td>['lukas einkemmer', 'alexander ostermann']</td>\n",
       "    </tr>\n",
       "    <tr>\n",
       "      <th>6</th>\n",
       "      <td>6</td>\n",
       "      <td>1309.4648</td>\n",
       "      <td>an exponential wagner-platen type scheme for s...</td>\n",
       "      <td>math.na</td>\n",
       "      <td>the strong numerical approximation of semiline...</td>\n",
       "      <td>NaN</td>\n",
       "      <td>['sebastian becker', 'arnulf jentzen', 'peter ...</td>\n",
       "    </tr>\n",
       "    <tr>\n",
       "      <th>7</th>\n",
       "      <td>7</td>\n",
       "      <td>1310.7671</td>\n",
       "      <td>second order wsgd operators ii: a new family o...</td>\n",
       "      <td>math.na</td>\n",
       "      <td>the second order weighted and shifted gr\\\"{u}n...</td>\n",
       "      <td>NaN</td>\n",
       "      <td>['can li', 'weihua deng']</td>\n",
       "    </tr>\n",
       "    <tr>\n",
       "      <th>8</th>\n",
       "      <td>8</td>\n",
       "      <td>1311.2001</td>\n",
       "      <td>regularity theory for nonlinear systems of spdes</td>\n",
       "      <td>math.ap</td>\n",
       "      <td>we consider systems of stochastic evolutionary...</td>\n",
       "      <td>2016-12-31</td>\n",
       "      <td>['dominic breit']</td>\n",
       "    </tr>\n",
       "    <tr>\n",
       "      <th>9</th>\n",
       "      <td>9</td>\n",
       "      <td>1311.5121</td>\n",
       "      <td>finite element approximation of the $p(\\cdot)$...</td>\n",
       "      <td>math.na math.ap</td>\n",
       "      <td>we study a~priori estimates for the dirichlet ...</td>\n",
       "      <td>2014-08-12</td>\n",
       "      <td>['d. breit', 'l. diening', 's. schwarzacher']</td>\n",
       "    </tr>\n",
       "  </tbody>\n",
       "</table>\n",
       "</div>"
      ],
      "text/plain": [
       "   index         id                                              title  \\\n",
       "0      0  1208.3386  existence of a martingale solution of the stoc...   \n",
       "1      1  1211.5816  general smooth solutions to the hjb pde: appli...   \n",
       "2      2  1302.5248                       elastic splines i: existence   \n",
       "3      3  1304.2967  log-majorization of the moduli of the eigenval...   \n",
       "4      4  1308.1005  the profinite dimensional manifold structure o...   \n",
       "5      5  1309.4305  an almost symmetric strang splitting scheme fo...   \n",
       "6      6  1309.4648  an exponential wagner-platen type scheme for s...   \n",
       "7      7  1310.7671  second order wsgd operators ii: a new family o...   \n",
       "8      8  1311.2001   regularity theory for nonlinear systems of spdes   \n",
       "9      9  1311.5121  finite element approximation of the $p(\\cdot)$...   \n",
       "\n",
       "                        categories  \\\n",
       "0                  math.pr math.ap   \n",
       "1                 q-fin.pm math.ap   \n",
       "2                          math.na   \n",
       "3                  math.sp math.na   \n",
       "4  math.ap math-ph math.dg math.mp   \n",
       "5                          math.na   \n",
       "6                          math.na   \n",
       "7                          math.na   \n",
       "8                          math.ap   \n",
       "9                  math.na math.ap   \n",
       "\n",
       "                                            abstract     updated  \\\n",
       "0  stochastic navier-stokes equations in 2d and 3...  2017-01-02   \n",
       "1  we overcome a major obstacle in mathematical o...  2017-01-06   \n",
       "2  given interpolation points $p_1,p_2,\\ldots,p_n...  2017-01-02   \n",
       "3  we show that the sequence of moduli of the eig...  2016-11-03   \n",
       "4  in this paper, we study the formal solution sp...  2017-01-10   \n",
       "5  in this paper we consider splitting methods fo...         NaN   \n",
       "6  the strong numerical approximation of semiline...         NaN   \n",
       "7  the second order weighted and shifted gr\\\"{u}n...         NaN   \n",
       "8  we consider systems of stochastic evolutionary...  2016-12-31   \n",
       "9  we study a~priori estimates for the dirichlet ...  2014-08-12   \n",
       "\n",
       "                                             authors  \n",
       "0           ['zdzisław brzeźniak', 'elżbieta motyl']  \n",
       "1                               ['moawia alghalith']  \n",
       "2           ['albert borbely', 'michael j. johnson']  \n",
       "3  ['marianne akian', 'stephane gaubert', 'meisam...  \n",
       "4               ['batu güneysu', 'markus j. pflaum']  \n",
       "5         ['lukas einkemmer', 'alexander ostermann']  \n",
       "6  ['sebastian becker', 'arnulf jentzen', 'peter ...  \n",
       "7                          ['can li', 'weihua deng']  \n",
       "8                                  ['dominic breit']  \n",
       "9      ['d. breit', 'l. diening', 's. schwarzacher']  "
      ]
     },
     "execution_count": 18,
     "metadata": {},
     "output_type": "execute_result"
    }
   ],
   "source": [
    "df.head(10)"
   ]
  },
  {
   "cell_type": "code",
   "execution_count": 21,
   "metadata": {
    "ExecuteTime": {
     "end_time": "2019-12-24T14:04:55.784924Z",
     "start_time": "2019-12-24T14:04:55.592676Z"
    }
   },
   "outputs": [
    {
     "data": {
      "text/html": [
       "<div>\n",
       "<style scoped>\n",
       "    .dataframe tbody tr th:only-of-type {\n",
       "        vertical-align: middle;\n",
       "    }\n",
       "\n",
       "    .dataframe tbody tr th {\n",
       "        vertical-align: top;\n",
       "    }\n",
       "\n",
       "    .dataframe thead th {\n",
       "        text-align: right;\n",
       "    }\n",
       "</style>\n",
       "<table border=\"1\" class=\"dataframe\">\n",
       "  <thead>\n",
       "    <tr style=\"text-align: right;\">\n",
       "      <th></th>\n",
       "      <th>index</th>\n",
       "      <th>id</th>\n",
       "      <th>title</th>\n",
       "      <th>categories</th>\n",
       "      <th>abstract</th>\n",
       "      <th>updated</th>\n",
       "      <th>authors</th>\n",
       "    </tr>\n",
       "  </thead>\n",
       "  <tbody>\n",
       "    <tr>\n",
       "      <th>count</th>\n",
       "      <td>32461.000000</td>\n",
       "      <td>32461</td>\n",
       "      <td>32461</td>\n",
       "      <td>32461</td>\n",
       "      <td>32461</td>\n",
       "      <td>14867</td>\n",
       "      <td>32461</td>\n",
       "    </tr>\n",
       "    <tr>\n",
       "      <th>unique</th>\n",
       "      <td>NaN</td>\n",
       "      <td>6087</td>\n",
       "      <td>6086</td>\n",
       "      <td>711</td>\n",
       "      <td>6087</td>\n",
       "      <td>652</td>\n",
       "      <td>5383</td>\n",
       "    </tr>\n",
       "    <tr>\n",
       "      <th>top</th>\n",
       "      <td>NaN</td>\n",
       "      <td>1701.08865</td>\n",
       "      <td>a dirichlet problem for the laplace operator i...</td>\n",
       "      <td>math.ap</td>\n",
       "      <td>we consider discretizations of the hyper-singu...</td>\n",
       "      <td>2017-12-20</td>\n",
       "      <td>['f. reese harvey', 'h. blaine lawson']</td>\n",
       "    </tr>\n",
       "    <tr>\n",
       "      <th>freq</th>\n",
       "      <td>NaN</td>\n",
       "      <td>12</td>\n",
       "      <td>19</td>\n",
       "      <td>12275</td>\n",
       "      <td>12</td>\n",
       "      <td>148</td>\n",
       "      <td>144</td>\n",
       "    </tr>\n",
       "    <tr>\n",
       "      <th>mean</th>\n",
       "      <td>1335.815471</td>\n",
       "      <td>NaN</td>\n",
       "      <td>NaN</td>\n",
       "      <td>NaN</td>\n",
       "      <td>NaN</td>\n",
       "      <td>NaN</td>\n",
       "      <td>NaN</td>\n",
       "    </tr>\n",
       "    <tr>\n",
       "      <th>std</th>\n",
       "      <td>990.195888</td>\n",
       "      <td>NaN</td>\n",
       "      <td>NaN</td>\n",
       "      <td>NaN</td>\n",
       "      <td>NaN</td>\n",
       "      <td>NaN</td>\n",
       "      <td>NaN</td>\n",
       "    </tr>\n",
       "    <tr>\n",
       "      <th>min</th>\n",
       "      <td>0.000000</td>\n",
       "      <td>NaN</td>\n",
       "      <td>NaN</td>\n",
       "      <td>NaN</td>\n",
       "      <td>NaN</td>\n",
       "      <td>NaN</td>\n",
       "      <td>NaN</td>\n",
       "    </tr>\n",
       "    <tr>\n",
       "      <th>25%</th>\n",
       "      <td>426.000000</td>\n",
       "      <td>NaN</td>\n",
       "      <td>NaN</td>\n",
       "      <td>NaN</td>\n",
       "      <td>NaN</td>\n",
       "      <td>NaN</td>\n",
       "      <td>NaN</td>\n",
       "    </tr>\n",
       "    <tr>\n",
       "      <th>50%</th>\n",
       "      <td>1202.000000</td>\n",
       "      <td>NaN</td>\n",
       "      <td>NaN</td>\n",
       "      <td>NaN</td>\n",
       "      <td>NaN</td>\n",
       "      <td>NaN</td>\n",
       "      <td>NaN</td>\n",
       "    </tr>\n",
       "    <tr>\n",
       "      <th>75%</th>\n",
       "      <td>2117.000000</td>\n",
       "      <td>NaN</td>\n",
       "      <td>NaN</td>\n",
       "      <td>NaN</td>\n",
       "      <td>NaN</td>\n",
       "      <td>NaN</td>\n",
       "      <td>NaN</td>\n",
       "    </tr>\n",
       "    <tr>\n",
       "      <th>max</th>\n",
       "      <td>3895.000000</td>\n",
       "      <td>NaN</td>\n",
       "      <td>NaN</td>\n",
       "      <td>NaN</td>\n",
       "      <td>NaN</td>\n",
       "      <td>NaN</td>\n",
       "      <td>NaN</td>\n",
       "    </tr>\n",
       "  </tbody>\n",
       "</table>\n",
       "</div>"
      ],
      "text/plain": [
       "               index          id  \\\n",
       "count   32461.000000       32461   \n",
       "unique           NaN        6087   \n",
       "top              NaN  1701.08865   \n",
       "freq             NaN          12   \n",
       "mean     1335.815471         NaN   \n",
       "std       990.195888         NaN   \n",
       "min         0.000000         NaN   \n",
       "25%       426.000000         NaN   \n",
       "50%      1202.000000         NaN   \n",
       "75%      2117.000000         NaN   \n",
       "max      3895.000000         NaN   \n",
       "\n",
       "                                                    title categories  \\\n",
       "count                                               32461      32461   \n",
       "unique                                               6086        711   \n",
       "top     a dirichlet problem for the laplace operator i...    math.ap   \n",
       "freq                                                   19      12275   \n",
       "mean                                                  NaN        NaN   \n",
       "std                                                   NaN        NaN   \n",
       "min                                                   NaN        NaN   \n",
       "25%                                                   NaN        NaN   \n",
       "50%                                                   NaN        NaN   \n",
       "75%                                                   NaN        NaN   \n",
       "max                                                   NaN        NaN   \n",
       "\n",
       "                                                 abstract     updated  \\\n",
       "count                                               32461       14867   \n",
       "unique                                               6087         652   \n",
       "top     we consider discretizations of the hyper-singu...  2017-12-20   \n",
       "freq                                                   12         148   \n",
       "mean                                                  NaN         NaN   \n",
       "std                                                   NaN         NaN   \n",
       "min                                                   NaN         NaN   \n",
       "25%                                                   NaN         NaN   \n",
       "50%                                                   NaN         NaN   \n",
       "75%                                                   NaN         NaN   \n",
       "max                                                   NaN         NaN   \n",
       "\n",
       "                                        authors  \n",
       "count                                     32461  \n",
       "unique                                     5383  \n",
       "top     ['f. reese harvey', 'h. blaine lawson']  \n",
       "freq                                        144  \n",
       "mean                                        NaN  \n",
       "std                                         NaN  \n",
       "min                                         NaN  \n",
       "25%                                         NaN  \n",
       "50%                                         NaN  \n",
       "75%                                         NaN  \n",
       "max                                         NaN  "
      ]
     },
     "execution_count": 21,
     "metadata": {},
     "output_type": "execute_result"
    }
   ],
   "source": [
    "df.describe(include='all')"
   ]
  },
  {
   "cell_type": "markdown",
   "metadata": {},
   "source": [
    "It seems there are some duplicates. We need to remove them!"
   ]
  },
  {
   "cell_type": "code",
   "execution_count": 190,
   "metadata": {
    "ExecuteTime": {
     "end_time": "2019-12-24T15:21:13.503526Z",
     "start_time": "2019-12-24T15:21:13.364045Z"
    }
   },
   "outputs": [],
   "source": [
    "dfp = df.drop_duplicates(['id','title','abstract'])"
   ]
  },
  {
   "cell_type": "code",
   "execution_count": 191,
   "metadata": {
    "ExecuteTime": {
     "end_time": "2019-12-24T15:21:14.013195Z",
     "start_time": "2019-12-24T15:21:14.007122Z"
    }
   },
   "outputs": [
    {
     "data": {
      "text/plain": [
       "\"\\nIf you desire to separate the dataframes from the duplicated\\n\\nduplicates = df[df['id'].duplicated()].sort_values(by=['id','updated'],  na_position = 'first')\\nuniques = df[df['id'].duplicated()==False].sort_values(by=['id','updated'], na_position = 'first')\\n\\n\""
      ]
     },
     "execution_count": 191,
     "metadata": {},
     "output_type": "execute_result"
    }
   ],
   "source": [
    "\"\"\"\n",
    "If you desire to separate the dataframes from the duplicated\n",
    "\n",
    "duplicates = df[df['id'].duplicated()].sort_values(by=['id','updated'],  na_position = 'first')\n",
    "uniques = df[df['id'].duplicated()==False].sort_values(by=['id','updated'], na_position = 'first')\n",
    "\n",
    "\"\"\""
   ]
  },
  {
   "cell_type": "markdown",
   "metadata": {
    "ExecuteTime": {
     "end_time": "2019-12-24T14:20:19.992373Z",
     "start_time": "2019-12-24T14:20:19.821050Z"
    }
   },
   "source": [
    "Now we have only unique values respect to the id received from arxiv. Be aware that there could be still duplicated records, i.e. papers, but this problem would come from arxiv and not the scraping. "
   ]
  },
  {
   "cell_type": "code",
   "execution_count": 192,
   "metadata": {
    "ExecuteTime": {
     "end_time": "2019-12-24T15:21:15.445477Z",
     "start_time": "2019-12-24T15:21:15.325280Z"
    }
   },
   "outputs": [
    {
     "data": {
      "text/html": [
       "<div>\n",
       "<style scoped>\n",
       "    .dataframe tbody tr th:only-of-type {\n",
       "        vertical-align: middle;\n",
       "    }\n",
       "\n",
       "    .dataframe tbody tr th {\n",
       "        vertical-align: top;\n",
       "    }\n",
       "\n",
       "    .dataframe thead th {\n",
       "        text-align: right;\n",
       "    }\n",
       "</style>\n",
       "<table border=\"1\" class=\"dataframe\">\n",
       "  <thead>\n",
       "    <tr style=\"text-align: right;\">\n",
       "      <th></th>\n",
       "      <th>index</th>\n",
       "      <th>id</th>\n",
       "      <th>title</th>\n",
       "      <th>categories</th>\n",
       "      <th>abstract</th>\n",
       "      <th>updated</th>\n",
       "      <th>authors</th>\n",
       "    </tr>\n",
       "  </thead>\n",
       "  <tbody>\n",
       "    <tr>\n",
       "      <th>count</th>\n",
       "      <td>6087.000000</td>\n",
       "      <td>6087</td>\n",
       "      <td>6087</td>\n",
       "      <td>6087</td>\n",
       "      <td>6087</td>\n",
       "      <td>2448</td>\n",
       "      <td>6087</td>\n",
       "    </tr>\n",
       "    <tr>\n",
       "      <th>unique</th>\n",
       "      <td>NaN</td>\n",
       "      <td>6087</td>\n",
       "      <td>6086</td>\n",
       "      <td>711</td>\n",
       "      <td>6087</td>\n",
       "      <td>652</td>\n",
       "      <td>5383</td>\n",
       "    </tr>\n",
       "    <tr>\n",
       "      <th>top</th>\n",
       "      <td>NaN</td>\n",
       "      <td>1502.00966</td>\n",
       "      <td>a dirichlet problem for the laplace operator i...</td>\n",
       "      <td>math.ap</td>\n",
       "      <td>we give full boundary extensions to two fundam...</td>\n",
       "      <td>2017-06-27</td>\n",
       "      <td>['veli shakhmurov']</td>\n",
       "    </tr>\n",
       "    <tr>\n",
       "      <th>freq</th>\n",
       "      <td>NaN</td>\n",
       "      <td>1</td>\n",
       "      <td>2</td>\n",
       "      <td>2396</td>\n",
       "      <td>1</td>\n",
       "      <td>15</td>\n",
       "      <td>17</td>\n",
       "    </tr>\n",
       "    <tr>\n",
       "      <th>mean</th>\n",
       "      <td>2196.156070</td>\n",
       "      <td>NaN</td>\n",
       "      <td>NaN</td>\n",
       "      <td>NaN</td>\n",
       "      <td>NaN</td>\n",
       "      <td>NaN</td>\n",
       "      <td>NaN</td>\n",
       "    </tr>\n",
       "    <tr>\n",
       "      <th>std</th>\n",
       "      <td>1096.455545</td>\n",
       "      <td>NaN</td>\n",
       "      <td>NaN</td>\n",
       "      <td>NaN</td>\n",
       "      <td>NaN</td>\n",
       "      <td>NaN</td>\n",
       "      <td>NaN</td>\n",
       "    </tr>\n",
       "    <tr>\n",
       "      <th>min</th>\n",
       "      <td>0.000000</td>\n",
       "      <td>NaN</td>\n",
       "      <td>NaN</td>\n",
       "      <td>NaN</td>\n",
       "      <td>NaN</td>\n",
       "      <td>NaN</td>\n",
       "      <td>NaN</td>\n",
       "    </tr>\n",
       "    <tr>\n",
       "      <th>25%</th>\n",
       "      <td>1299.500000</td>\n",
       "      <td>NaN</td>\n",
       "      <td>NaN</td>\n",
       "      <td>NaN</td>\n",
       "      <td>NaN</td>\n",
       "      <td>NaN</td>\n",
       "      <td>NaN</td>\n",
       "    </tr>\n",
       "    <tr>\n",
       "      <th>50%</th>\n",
       "      <td>2578.000000</td>\n",
       "      <td>NaN</td>\n",
       "      <td>NaN</td>\n",
       "      <td>NaN</td>\n",
       "      <td>NaN</td>\n",
       "      <td>NaN</td>\n",
       "      <td>NaN</td>\n",
       "    </tr>\n",
       "    <tr>\n",
       "      <th>75%</th>\n",
       "      <td>3059.000000</td>\n",
       "      <td>NaN</td>\n",
       "      <td>NaN</td>\n",
       "      <td>NaN</td>\n",
       "      <td>NaN</td>\n",
       "      <td>NaN</td>\n",
       "      <td>NaN</td>\n",
       "    </tr>\n",
       "    <tr>\n",
       "      <th>max</th>\n",
       "      <td>3895.000000</td>\n",
       "      <td>NaN</td>\n",
       "      <td>NaN</td>\n",
       "      <td>NaN</td>\n",
       "      <td>NaN</td>\n",
       "      <td>NaN</td>\n",
       "      <td>NaN</td>\n",
       "    </tr>\n",
       "  </tbody>\n",
       "</table>\n",
       "</div>"
      ],
      "text/plain": [
       "              index          id  \\\n",
       "count   6087.000000        6087   \n",
       "unique          NaN        6087   \n",
       "top             NaN  1502.00966   \n",
       "freq            NaN           1   \n",
       "mean    2196.156070         NaN   \n",
       "std     1096.455545         NaN   \n",
       "min        0.000000         NaN   \n",
       "25%     1299.500000         NaN   \n",
       "50%     2578.000000         NaN   \n",
       "75%     3059.000000         NaN   \n",
       "max     3895.000000         NaN   \n",
       "\n",
       "                                                    title categories  \\\n",
       "count                                                6087       6087   \n",
       "unique                                               6086        711   \n",
       "top     a dirichlet problem for the laplace operator i...    math.ap   \n",
       "freq                                                    2       2396   \n",
       "mean                                                  NaN        NaN   \n",
       "std                                                   NaN        NaN   \n",
       "min                                                   NaN        NaN   \n",
       "25%                                                   NaN        NaN   \n",
       "50%                                                   NaN        NaN   \n",
       "75%                                                   NaN        NaN   \n",
       "max                                                   NaN        NaN   \n",
       "\n",
       "                                                 abstract     updated  \\\n",
       "count                                                6087        2448   \n",
       "unique                                               6087         652   \n",
       "top     we give full boundary extensions to two fundam...  2017-06-27   \n",
       "freq                                                    1          15   \n",
       "mean                                                  NaN         NaN   \n",
       "std                                                   NaN         NaN   \n",
       "min                                                   NaN         NaN   \n",
       "25%                                                   NaN         NaN   \n",
       "50%                                                   NaN         NaN   \n",
       "75%                                                   NaN         NaN   \n",
       "max                                                   NaN         NaN   \n",
       "\n",
       "                    authors  \n",
       "count                  6087  \n",
       "unique                 5383  \n",
       "top     ['veli shakhmurov']  \n",
       "freq                     17  \n",
       "mean                    NaN  \n",
       "std                     NaN  \n",
       "min                     NaN  \n",
       "25%                     NaN  \n",
       "50%                     NaN  \n",
       "75%                     NaN  \n",
       "max                     NaN  "
      ]
     },
     "execution_count": 192,
     "metadata": {},
     "output_type": "execute_result"
    }
   ],
   "source": [
    "dfp.describe(include='all')"
   ]
  },
  {
   "cell_type": "code",
   "execution_count": 193,
   "metadata": {
    "ExecuteTime": {
     "end_time": "2019-12-24T15:21:16.178621Z",
     "start_time": "2019-12-24T15:21:16.057263Z"
    }
   },
   "outputs": [
    {
     "name": "stderr",
     "output_type": "stream",
     "text": [
      "D:\\Users\\rdemaio\\AppData\\Local\\Continuum\\anaconda3\\lib\\site-packages\\pandas\\core\\indexing.py:494: SettingWithCopyWarning: \n",
      "A value is trying to be set on a copy of a slice from a DataFrame.\n",
      "Try using .loc[row_indexer,col_indexer] = value instead\n",
      "\n",
      "See the caveats in the documentation: http://pandas.pydata.org/pandas-docs/stable/user_guide/indexing.html#returning-a-view-versus-a-copy\n",
      "  self.obj[item] = s\n"
     ]
    }
   ],
   "source": [
    "dfp.loc[:,('title')] = dfp.replace('  ',' ',regex = True)"
   ]
  },
  {
   "cell_type": "code",
   "execution_count": 194,
   "metadata": {
    "ExecuteTime": {
     "end_time": "2019-12-24T15:21:17.661972Z",
     "start_time": "2019-12-24T15:21:17.623442Z"
    }
   },
   "outputs": [
    {
     "name": "stderr",
     "output_type": "stream",
     "text": [
      "D:\\Users\\rdemaio\\AppData\\Local\\Continuum\\anaconda3\\lib\\site-packages\\ipykernel_launcher.py:1: SettingWithCopyWarning: \n",
      "A value is trying to be set on a copy of a slice from a DataFrame.\n",
      "Try using .loc[row_indexer,col_indexer] = value instead\n",
      "\n",
      "See the caveats in the documentation: http://pandas.pydata.org/pandas-docs/stable/user_guide/indexing.html#returning-a-view-versus-a-copy\n",
      "  \"\"\"Entry point for launching an IPython kernel.\n",
      "D:\\Users\\rdemaio\\AppData\\Local\\Continuum\\anaconda3\\lib\\site-packages\\ipykernel_launcher.py:2: SettingWithCopyWarning: \n",
      "A value is trying to be set on a copy of a slice from a DataFrame.\n",
      "Try using .loc[row_indexer,col_indexer] = value instead\n",
      "\n",
      "See the caveats in the documentation: http://pandas.pydata.org/pandas-docs/stable/user_guide/indexing.html#returning-a-view-versus-a-copy\n",
      "  \n"
     ]
    }
   ],
   "source": [
    "dfp['categories'] = dfp.categories.str.split()\n",
    "dfp['authors'] =  dfp.authors.apply(lambda x: list(map(str.strip, x.strip('[]').replace(\"'\",'').split(','))))"
   ]
  },
  {
   "cell_type": "code",
   "execution_count": 195,
   "metadata": {
    "ExecuteTime": {
     "end_time": "2019-12-24T15:21:20.320415Z",
     "start_time": "2019-12-24T15:21:20.293949Z"
    }
   },
   "outputs": [
    {
     "data": {
      "text/html": [
       "<div>\n",
       "<style scoped>\n",
       "    .dataframe tbody tr th:only-of-type {\n",
       "        vertical-align: middle;\n",
       "    }\n",
       "\n",
       "    .dataframe tbody tr th {\n",
       "        vertical-align: top;\n",
       "    }\n",
       "\n",
       "    .dataframe thead th {\n",
       "        text-align: right;\n",
       "    }\n",
       "</style>\n",
       "<table border=\"1\" class=\"dataframe\">\n",
       "  <thead>\n",
       "    <tr style=\"text-align: right;\">\n",
       "      <th></th>\n",
       "      <th>index</th>\n",
       "      <th>id</th>\n",
       "      <th>title</th>\n",
       "      <th>categories</th>\n",
       "      <th>abstract</th>\n",
       "      <th>updated</th>\n",
       "      <th>authors</th>\n",
       "    </tr>\n",
       "  </thead>\n",
       "  <tbody>\n",
       "    <tr>\n",
       "      <th>0</th>\n",
       "      <td>0</td>\n",
       "      <td>1208.3386</td>\n",
       "      <td>existence of a martingale solution of the stoc...</td>\n",
       "      <td>[math.pr, math.ap]</td>\n",
       "      <td>stochastic navier-stokes equations in 2d and 3...</td>\n",
       "      <td>2017-01-02</td>\n",
       "      <td>[zdzisław brzeźniak, elżbieta motyl]</td>\n",
       "    </tr>\n",
       "    <tr>\n",
       "      <th>1</th>\n",
       "      <td>1</td>\n",
       "      <td>1211.5816</td>\n",
       "      <td>general smooth solutions to the hjb pde: appli...</td>\n",
       "      <td>[q-fin.pm, math.ap]</td>\n",
       "      <td>we overcome a major obstacle in mathematical o...</td>\n",
       "      <td>2017-01-06</td>\n",
       "      <td>[moawia alghalith]</td>\n",
       "    </tr>\n",
       "    <tr>\n",
       "      <th>2</th>\n",
       "      <td>2</td>\n",
       "      <td>1302.5248</td>\n",
       "      <td>elastic splines i: existence</td>\n",
       "      <td>[math.na]</td>\n",
       "      <td>given interpolation points $p_1,p_2,\\ldots,p_n...</td>\n",
       "      <td>2017-01-02</td>\n",
       "      <td>[albert borbely, michael j. johnson]</td>\n",
       "    </tr>\n",
       "    <tr>\n",
       "      <th>3</th>\n",
       "      <td>3</td>\n",
       "      <td>1304.2967</td>\n",
       "      <td>log-majorization of the moduli of the eigenval...</td>\n",
       "      <td>[math.sp, math.na]</td>\n",
       "      <td>we show that the sequence of moduli of the eig...</td>\n",
       "      <td>2016-11-03</td>\n",
       "      <td>[marianne akian, stephane gaubert, meisam shar...</td>\n",
       "    </tr>\n",
       "    <tr>\n",
       "      <th>4</th>\n",
       "      <td>4</td>\n",
       "      <td>1308.1005</td>\n",
       "      <td>the profinite dimensional manifold structure o...</td>\n",
       "      <td>[math.ap, math-ph, math.dg, math.mp]</td>\n",
       "      <td>in this paper, we study the formal solution sp...</td>\n",
       "      <td>2017-01-10</td>\n",
       "      <td>[batu güneysu, markus j. pflaum]</td>\n",
       "    </tr>\n",
       "    <tr>\n",
       "      <th>5</th>\n",
       "      <td>5</td>\n",
       "      <td>1309.4305</td>\n",
       "      <td>an almost symmetric strang splitting scheme fo...</td>\n",
       "      <td>[math.na]</td>\n",
       "      <td>in this paper we consider splitting methods fo...</td>\n",
       "      <td>NaN</td>\n",
       "      <td>[lukas einkemmer, alexander ostermann]</td>\n",
       "    </tr>\n",
       "    <tr>\n",
       "      <th>6</th>\n",
       "      <td>6</td>\n",
       "      <td>1309.4648</td>\n",
       "      <td>an exponential wagner-platen type scheme for s...</td>\n",
       "      <td>[math.na]</td>\n",
       "      <td>the strong numerical approximation of semiline...</td>\n",
       "      <td>NaN</td>\n",
       "      <td>[sebastian becker, arnulf jentzen, peter e. kl...</td>\n",
       "    </tr>\n",
       "    <tr>\n",
       "      <th>7</th>\n",
       "      <td>7</td>\n",
       "      <td>1310.7671</td>\n",
       "      <td>second order wsgd operators ii: a new family o...</td>\n",
       "      <td>[math.na]</td>\n",
       "      <td>the second order weighted and shifted gr\\\"{u}n...</td>\n",
       "      <td>NaN</td>\n",
       "      <td>[can li, weihua deng]</td>\n",
       "    </tr>\n",
       "    <tr>\n",
       "      <th>8</th>\n",
       "      <td>8</td>\n",
       "      <td>1311.2001</td>\n",
       "      <td>regularity theory for nonlinear systems of spdes</td>\n",
       "      <td>[math.ap]</td>\n",
       "      <td>we consider systems of stochastic evolutionary...</td>\n",
       "      <td>2016-12-31</td>\n",
       "      <td>[dominic breit]</td>\n",
       "    </tr>\n",
       "    <tr>\n",
       "      <th>9</th>\n",
       "      <td>9</td>\n",
       "      <td>1311.5121</td>\n",
       "      <td>finite element approximation of the $p(\\cdot)$...</td>\n",
       "      <td>[math.na, math.ap]</td>\n",
       "      <td>we study a~priori estimates for the dirichlet ...</td>\n",
       "      <td>2014-08-12</td>\n",
       "      <td>[d. breit, l. diening, s. schwarzacher]</td>\n",
       "    </tr>\n",
       "  </tbody>\n",
       "</table>\n",
       "</div>"
      ],
      "text/plain": [
       "   index         id                                              title  \\\n",
       "0      0  1208.3386  existence of a martingale solution of the stoc...   \n",
       "1      1  1211.5816  general smooth solutions to the hjb pde: appli...   \n",
       "2      2  1302.5248                       elastic splines i: existence   \n",
       "3      3  1304.2967  log-majorization of the moduli of the eigenval...   \n",
       "4      4  1308.1005  the profinite dimensional manifold structure o...   \n",
       "5      5  1309.4305  an almost symmetric strang splitting scheme fo...   \n",
       "6      6  1309.4648  an exponential wagner-platen type scheme for s...   \n",
       "7      7  1310.7671  second order wsgd operators ii: a new family o...   \n",
       "8      8  1311.2001   regularity theory for nonlinear systems of spdes   \n",
       "9      9  1311.5121  finite element approximation of the $p(\\cdot)$...   \n",
       "\n",
       "                             categories  \\\n",
       "0                    [math.pr, math.ap]   \n",
       "1                   [q-fin.pm, math.ap]   \n",
       "2                             [math.na]   \n",
       "3                    [math.sp, math.na]   \n",
       "4  [math.ap, math-ph, math.dg, math.mp]   \n",
       "5                             [math.na]   \n",
       "6                             [math.na]   \n",
       "7                             [math.na]   \n",
       "8                             [math.ap]   \n",
       "9                    [math.na, math.ap]   \n",
       "\n",
       "                                            abstract     updated  \\\n",
       "0  stochastic navier-stokes equations in 2d and 3...  2017-01-02   \n",
       "1  we overcome a major obstacle in mathematical o...  2017-01-06   \n",
       "2  given interpolation points $p_1,p_2,\\ldots,p_n...  2017-01-02   \n",
       "3  we show that the sequence of moduli of the eig...  2016-11-03   \n",
       "4  in this paper, we study the formal solution sp...  2017-01-10   \n",
       "5  in this paper we consider splitting methods fo...         NaN   \n",
       "6  the strong numerical approximation of semiline...         NaN   \n",
       "7  the second order weighted and shifted gr\\\"{u}n...         NaN   \n",
       "8  we consider systems of stochastic evolutionary...  2016-12-31   \n",
       "9  we study a~priori estimates for the dirichlet ...  2014-08-12   \n",
       "\n",
       "                                             authors  \n",
       "0               [zdzisław brzeźniak, elżbieta motyl]  \n",
       "1                                 [moawia alghalith]  \n",
       "2               [albert borbely, michael j. johnson]  \n",
       "3  [marianne akian, stephane gaubert, meisam shar...  \n",
       "4                   [batu güneysu, markus j. pflaum]  \n",
       "5             [lukas einkemmer, alexander ostermann]  \n",
       "6  [sebastian becker, arnulf jentzen, peter e. kl...  \n",
       "7                              [can li, weihua deng]  \n",
       "8                                    [dominic breit]  \n",
       "9            [d. breit, l. diening, s. schwarzacher]  "
      ]
     },
     "execution_count": 195,
     "metadata": {},
     "output_type": "execute_result"
    }
   ],
   "source": [
    "dfp.head(10)"
   ]
  },
  {
   "cell_type": "code",
   "execution_count": 132,
   "metadata": {
    "ExecuteTime": {
     "end_time": "2019-12-24T15:02:25.224798Z",
     "start_time": "2019-12-24T15:02:24.798860Z"
    }
   },
   "outputs": [],
   "source": [
    "category_list = reduce(lambda x,y: x + y, dfp.categories.to_list())\n",
    "authors_list = reduce(lambda x,y: x + y, dfp.authors.to_list())\n",
    "counter_cat = collections.Counter(category_list)\n",
    "counter_aut = collections.Counter(authors_list)"
   ]
  },
  {
   "cell_type": "code",
   "execution_count": 137,
   "metadata": {
    "ExecuteTime": {
     "end_time": "2019-12-24T15:05:19.363611Z",
     "start_time": "2019-12-24T15:05:19.358985Z"
    },
    "hide_input": false
   },
   "outputs": [],
   "source": [
    "authors_list = "
   ]
  },
  {
   "cell_type": "code",
   "execution_count": 134,
   "metadata": {
    "ExecuteTime": {
     "end_time": "2019-12-24T15:02:36.765896Z",
     "start_time": "2019-12-24T15:02:36.756955Z"
    }
   },
   "outputs": [
    {
     "name": "stdout",
     "output_type": "stream",
     "text": [
      "Counter({\"'\": 28294, ' ': 24947, 'a': 21404, 'i': 15820, 'n': 15402, 'e': 15182, 'r': 12040, 'o': 10964, 'l': 8771, 's': 8742, ',': 8087, 'h': 7438, 't': 6598, 'u': 6495, 'g': 6165, '[': 6087, ']': 6087, 'm': 5840, 'c': 5301, 'd': 4873, 'k': 3747, 'b': 3074, 'y': 2745, 'v': 2575, '.': 2568, 'p': 2541, 'j': 2365, 'z': 2252, 'f': 1985, 'w': 1553, 'x': 853, '-': 701, 'q': 395, 'é': 314, 'á': 164, 'ö': 139, 'ü': 123, '\"': 104, 'í': 87, 'ó': 74, 'ä': 51, 'š': 49, 'ł': 40, 'ñ': 31, 'ç': 30, 'è': 29, 'ã': 28, 'ć': 26, 'č': 20, 'ú': 17, 'ë': 17, 'ś': 15, 'ß': 14, 'ø': 14, 'å': 13, 'ï': 13, '/': 13, 'ń': 12, 'ž': 11, 'à': 10, 'ô': 10, 'ă': 10, 'ı': 9, 'î': 8, 'ş': 8, 'ğ': 8, 'ţ': 8, 'ź': 7, 'ř': 6, 'ý': 6, 'ũ': 5, 'æ': 4, '\\\\': 4, '7': 4, 'ż': 3, 'ê': 3, 'â': 3, 'ę': 3, '̇': 2, 'ň': 2, 'ů': 2, 'ď': 2, 'ő': 1, 'ò': 1, 'ù': 1, 'ě': 1, 'ŭ': 1})\n"
     ]
    }
   ],
   "source": [
    "# Use Counter from collections to get some info on values per attributes\n",
    "\n",
    "print(counter_aut)"
   ]
  },
  {
   "cell_type": "code",
   "execution_count": 167,
   "metadata": {
    "ExecuteTime": {
     "end_time": "2019-12-24T15:13:57.769989Z",
     "start_time": "2019-12-24T15:13:57.763745Z"
    }
   },
   "outputs": [
    {
     "data": {
      "text/plain": [
       "['marianne akian', 'stephane gaubert', 'meisam sharify']"
      ]
     },
     "execution_count": 167,
     "metadata": {},
     "output_type": "execute_result"
    }
   ],
   "source": [
    "list(map(str.strip, dfp.authors[3].strip('[]').replace(\"'\",'').split(',')))"
   ]
  },
  {
   "cell_type": "code",
   "execution_count": 185,
   "metadata": {
    "ExecuteTime": {
     "end_time": "2019-12-24T15:19:59.907099Z",
     "start_time": "2019-12-24T15:19:59.871561Z"
    }
   },
   "outputs": [
    {
     "data": {
      "text/plain": [
       "0                     [zdzisław brzeźniak, elżbieta motyl]\n",
       "1                                       [moawia alghalith]\n",
       "2                     [albert borbely, michael j. johnson]\n",
       "3        [marianne akian, stephane gaubert, meisam shar...\n",
       "4                         [batu güneysu, markus j. pflaum]\n",
       "                               ...                        \n",
       "21443                       [gregory eskin, james ralston]\n",
       "21444                                      [raphael ponge]\n",
       "21445                        [maria j. esteban, eric séré]\n",
       "21446                                    [armen shirikyan]\n",
       "21447                                 [artur g. sergyeyev]\n",
       "Name: authors, Length: 6087, dtype: object"
      ]
     },
     "execution_count": 185,
     "metadata": {},
     "output_type": "execute_result"
    }
   ],
   "source": []
  },
  {
   "cell_type": "code",
   "execution_count": 179,
   "metadata": {
    "ExecuteTime": {
     "end_time": "2019-12-24T15:19:02.431971Z",
     "start_time": "2019-12-24T15:19:02.424518Z"
    }
   },
   "outputs": [
    {
     "data": {
      "text/plain": [
       "\"['zdzisław brzeźniak', 'elżbieta motyl']\""
      ]
     },
     "execution_count": 179,
     "metadata": {},
     "output_type": "execute_result"
    }
   ],
   "source": [
    "dfp.authors[0]"
   ]
  },
  {
   "cell_type": "code",
   "execution_count": null,
   "metadata": {},
   "outputs": [],
   "source": []
  }
 ],
 "metadata": {
  "hide_input": false,
  "kernelspec": {
   "display_name": "Python 3",
   "language": "python",
   "name": "python3"
  },
  "language_info": {
   "codemirror_mode": {
    "name": "ipython",
    "version": 3
   },
   "file_extension": ".py",
   "mimetype": "text/x-python",
   "name": "python",
   "nbconvert_exporter": "python",
   "pygments_lexer": "ipython3",
   "version": "3.7.3"
  },
  "varInspector": {
   "cols": {
    "lenName": 16,
    "lenType": 16,
    "lenVar": 40
   },
   "kernels_config": {
    "python": {
     "delete_cmd_postfix": "",
     "delete_cmd_prefix": "del ",
     "library": "var_list.py",
     "varRefreshCmd": "print(var_dic_list())"
    },
    "r": {
     "delete_cmd_postfix": ") ",
     "delete_cmd_prefix": "rm(",
     "library": "var_list.r",
     "varRefreshCmd": "cat(var_dic_list()) "
    }
   },
   "types_to_exclude": [
    "module",
    "function",
    "builtin_function_or_method",
    "instance",
    "_Feature"
   ],
   "window_display": false
  }
 },
 "nbformat": 4,
 "nbformat_minor": 2
}
