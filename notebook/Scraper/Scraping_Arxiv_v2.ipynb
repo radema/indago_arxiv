{
 "cells": [
  {
   "cell_type": "markdown",
   "metadata": {},
   "source": [
    "# Recupero dati da Arxiv tramite ArxivScraper"
   ]
  },
  {
   "cell_type": "code",
   "execution_count": 12,
   "metadata": {
    "ExecuteTime": {
     "end_time": "2019-12-23T20:19:12.349728Z",
     "start_time": "2019-12-23T20:19:04.260873Z"
    }
   },
   "outputs": [
    {
     "name": "stdout",
     "output_type": "stream",
     "text": [
      "Requirement already up-to-date: arxivscraper in d:\\users\\rdemaio\\appdata\\local\\continuum\\anaconda3\\lib\\site-packages (0.0.3)\n"
     ]
    }
   ],
   "source": [
    "#!pip install --upgrade arxivscraper"
   ]
  },
  {
   "cell_type": "code",
   "execution_count": 1,
   "metadata": {
    "ExecuteTime": {
     "end_time": "2019-12-24T13:21:16.989943Z",
     "start_time": "2019-12-24T13:21:11.281390Z"
    }
   },
   "outputs": [
    {
     "name": "stdout",
     "output_type": "stream",
     "text": [
      "0.25.3\n"
     ]
    }
   ],
   "source": [
    "#import the libraries\n",
    "import arxivscraper\n",
    "import pandas as pd\n",
    "print(pd.__version__)\n",
    "#0.25.3"
   ]
  },
  {
   "cell_type": "code",
   "execution_count": 2,
   "metadata": {
    "ExecuteTime": {
     "end_time": "2019-12-24T13:21:49.602952Z",
     "start_time": "2019-12-24T13:21:49.597587Z"
    }
   },
   "outputs": [],
   "source": [
    "def add_string(x,y):\n",
    "    z = int(x)+int(y)\n",
    "    if z< 10:\n",
    "        return '0'+str(z)\n",
    "    else:\n",
    "        return str(z)"
   ]
  },
  {
   "cell_type": "code",
   "execution_count": 6,
   "metadata": {
    "ExecuteTime": {
     "end_time": "2019-12-23T21:15:15.642166Z",
     "start_time": "2019-12-23T21:14:27.209743Z"
    }
   },
   "outputs": [
    {
     "name": "stdout",
     "output_type": "stream",
     "text": [
      "http://export.arxiv.org/oai2?verb=ListRecords&from=2017-01-01&until=2017-02-01&metadataPrefix=arXiv&set=math\n",
      "fetching up to  1000 records...\n",
      "fetching up to  2000 records...\n",
      "fetching up to  3000 records...\n",
      "fetching up to  4000 records...\n",
      "fetching is completed in 48.4 seconds.\n",
      "Total number of records 457\n"
     ]
    },
    {
     "data": {
      "text/html": [
       "<div>\n",
       "<style scoped>\n",
       "    .dataframe tbody tr th:only-of-type {\n",
       "        vertical-align: middle;\n",
       "    }\n",
       "\n",
       "    .dataframe tbody tr th {\n",
       "        vertical-align: top;\n",
       "    }\n",
       "\n",
       "    .dataframe thead th {\n",
       "        text-align: right;\n",
       "    }\n",
       "</style>\n",
       "<table border=\"1\" class=\"dataframe\">\n",
       "  <thead>\n",
       "    <tr style=\"text-align: right;\">\n",
       "      <th></th>\n",
       "      <th>id</th>\n",
       "      <th>title</th>\n",
       "      <th>categories</th>\n",
       "      <th>abstract</th>\n",
       "      <th>updated</th>\n",
       "      <th>authors</th>\n",
       "    </tr>\n",
       "  </thead>\n",
       "  <tbody>\n",
       "    <tr>\n",
       "      <th>0</th>\n",
       "      <td>0911.5231</td>\n",
       "      <td>initial/boundary-value problems of tumor growt...</td>\n",
       "      <td>math-ph math.ap math.mp q-bio.to</td>\n",
       "      <td>this paper concerns multiphase models of tumor...</td>\n",
       "      <td>2011-07-17</td>\n",
       "      <td>[andrea tosin]</td>\n",
       "    </tr>\n",
       "    <tr>\n",
       "      <th>1</th>\n",
       "      <td>1101.3287</td>\n",
       "      <td>geometrically convergent sequences of upper an...</td>\n",
       "      <td>math.ca math.na</td>\n",
       "      <td>sequences of algebraic upper and lower bounds ...</td>\n",
       "      <td></td>\n",
       "      <td>[iosif pinelis]</td>\n",
       "    </tr>\n",
       "    <tr>\n",
       "      <th>2</th>\n",
       "      <td>1105.1497</td>\n",
       "      <td>lie symmetry analysis of the grad-shafranov eq...</td>\n",
       "      <td>math.ap</td>\n",
       "      <td>the theory of plasma physics offers a number o...</td>\n",
       "      <td></td>\n",
       "      <td>[mehdi nadjafikhah, parastoo kabi-nejad]</td>\n",
       "    </tr>\n",
       "    <tr>\n",
       "      <th>3</th>\n",
       "      <td>1201.6683</td>\n",
       "      <td>homogenization of the boundary value for the d...</td>\n",
       "      <td>math.ap math.ds</td>\n",
       "      <td>in this paper, we give a mathematically rigoro...</td>\n",
       "      <td>2017-01-30</td>\n",
       "      <td>[sunghan kim, ki-ahm lee, henrik shahgholian]</td>\n",
       "    </tr>\n",
       "    <tr>\n",
       "      <th>4</th>\n",
       "      <td>1208.3386</td>\n",
       "      <td>existence of a martingale solution of the stoc...</td>\n",
       "      <td>math.pr math.ap</td>\n",
       "      <td>stochastic navier-stokes equations in 2d and 3...</td>\n",
       "      <td>2017-01-02</td>\n",
       "      <td>[zdzisław brzeźniak, elżbieta motyl]</td>\n",
       "    </tr>\n",
       "  </tbody>\n",
       "</table>\n",
       "</div>"
      ],
      "text/plain": [
       "          id                                              title  \\\n",
       "0  0911.5231  initial/boundary-value problems of tumor growt...   \n",
       "1  1101.3287  geometrically convergent sequences of upper an...   \n",
       "2  1105.1497  lie symmetry analysis of the grad-shafranov eq...   \n",
       "3  1201.6683  homogenization of the boundary value for the d...   \n",
       "4  1208.3386  existence of a martingale solution of the stoc...   \n",
       "\n",
       "                         categories  \\\n",
       "0  math-ph math.ap math.mp q-bio.to   \n",
       "1                   math.ca math.na   \n",
       "2                           math.ap   \n",
       "3                   math.ap math.ds   \n",
       "4                   math.pr math.ap   \n",
       "\n",
       "                                            abstract     updated  \\\n",
       "0  this paper concerns multiphase models of tumor...  2011-07-17   \n",
       "1  sequences of algebraic upper and lower bounds ...               \n",
       "2  the theory of plasma physics offers a number o...               \n",
       "3  in this paper, we give a mathematically rigoro...  2017-01-30   \n",
       "4  stochastic navier-stokes equations in 2d and 3...  2017-01-02   \n",
       "\n",
       "                                         authors  \n",
       "0                                 [andrea tosin]  \n",
       "1                                [iosif pinelis]  \n",
       "2       [mehdi nadjafikhah, parastoo kabi-nejad]  \n",
       "3  [sunghan kim, ki-ahm lee, henrik shahgholian]  \n",
       "4           [zdzisław brzeźniak, elżbieta motyl]  "
      ]
     },
     "execution_count": 6,
     "metadata": {},
     "output_type": "execute_result"
    }
   ],
   "source": [
    "#define the scraper instance\n",
    "cols = ('id', 'title', 'categories', 'abstract', 'updated','authors')\n",
    "scraper = arxivscraper.Scraper(category = 'math', date_from = '2017-01-01', date_until='2017-02-01', t = 30,\n",
    "                               filters={'categories' : ['math.ap','math.na']})\n",
    "pd.DataFrame(scraper.scrape(),columns = cols).head(5)"
   ]
  },
  {
   "cell_type": "code",
   "execution_count": null,
   "metadata": {
    "ExecuteTime": {
     "start_time": "2019-12-24T13:22:50.192Z"
    }
   },
   "outputs": [
    {
     "name": "stdout",
     "output_type": "stream",
     "text": [
      "Insert the year you need:0000\n",
      "Starting...\n",
      "http://export.arxiv.org/oai2?verb=ListRecords&from=0000-01-01&until=0000-01-16&metadataPrefix=arXiv&set=math\n",
      "fetching up to  1000 records...\n",
      "http://export.arxiv.org/oai2?verb=ListRecords&from=0000-01-17&until=0000-01-32&metadataPrefix=arXiv&set=math\n",
      "fetching up to  1000 records...\n",
      "Got 503. Retrying after 30 seconds.\n"
     ]
    }
   ],
   "source": [
    "months = ['01','02','03','04','05','06','07','08','09','10','11','12']\n",
    "days = ['01','02','03','04','05','06','07','08','09','10',\n",
    "       '11','12','13','14','15','16','17','18','19','20',\n",
    "       '21','22','23','24','25','26','27','28','29','30']\n",
    "years =  [str(input('Insert the year you need:'))]#,'2018','2019']\n",
    "cols= ('id', 'title', 'categories', 'abstract', 'updated','authors')\n",
    "df = pd.DataFrame(columns = cols)\n",
    "error_list = []\n",
    "print(\"Starting...\")\n",
    "for y in years:\n",
    "    for m in months:\n",
    "        for d in ['0','16']:\n",
    "            try:\n",
    "                #define the instance scraper\n",
    "                scraper = arxivscraper.Scraper(category = 'math', date_from = y+'-'+m+'-'+add_string(d,'1'), \n",
    "                                               date_until=y+'-'+m+'-'+add_string(d,'16'), t = 30,\n",
    "                                       filters={'categories' : ['math.ap','math.na']})\n",
    "                #adding the output to the dataset\n",
    "                output = scraper.scrape()\n",
    "                df_output = pd.DataFrame(output,columns = cols)\n",
    "                if df_output.empty ==True:\n",
    "                    pass\n",
    "                else:\n",
    "                    df = df.append(df_output)\n",
    "                    print(df.info())\n",
    "                    print(y+m+d, 'completed')\n",
    "                error_list.append([y+m+d, 'completed'])\n",
    "            except Exception as e:\n",
    "                error_list.append([y+m+d, 'failed!'])"
   ]
  },
  {
   "cell_type": "code",
   "execution_count": 5,
   "metadata": {
    "ExecuteTime": {
     "end_time": "2019-12-23T22:20:49.785132Z",
     "start_time": "2019-12-23T22:20:47.601692Z"
    }
   },
   "outputs": [],
   "source": [
    "df.to_csv(\"D:/Users/rdemaio/Desktop/Practice ML/indago_arxiv/data/sourcesample_v2017.csv\")"
   ]
  }
 ],
 "metadata": {
  "hide_input": false,
  "kernelspec": {
   "display_name": "Python 3",
   "language": "python",
   "name": "python3"
  },
  "language_info": {
   "codemirror_mode": {
    "name": "ipython",
    "version": 3
   },
   "file_extension": ".py",
   "mimetype": "text/x-python",
   "name": "python",
   "nbconvert_exporter": "python",
   "pygments_lexer": "ipython3",
   "version": "3.7.3"
  },
  "latex_envs": {
   "LaTeX_envs_menu_present": true,
   "autoclose": false,
   "autocomplete": true,
   "bibliofile": "biblio.bib",
   "cite_by": "apalike",
   "current_citInitial": 1,
   "eqLabelWithNumbers": true,
   "eqNumInitial": 1,
   "hotkeys": {
    "equation": "Ctrl-E",
    "itemize": "Ctrl-I"
   },
   "labels_anchors": false,
   "latex_user_defs": false,
   "report_style_numbering": false,
   "user_envs_cfg": false
  },
  "varInspector": {
   "cols": {
    "lenName": 16,
    "lenType": 16,
    "lenVar": 40
   },
   "kernels_config": {
    "python": {
     "delete_cmd_postfix": "",
     "delete_cmd_prefix": "del ",
     "library": "var_list.py",
     "varRefreshCmd": "print(var_dic_list())"
    },
    "r": {
     "delete_cmd_postfix": ") ",
     "delete_cmd_prefix": "rm(",
     "library": "var_list.r",
     "varRefreshCmd": "cat(var_dic_list()) "
    }
   },
   "position": {
    "height": "144px",
    "left": "1550px",
    "right": "20px",
    "top": "119px",
    "width": "350px"
   },
   "types_to_exclude": [
    "module",
    "function",
    "builtin_function_or_method",
    "instance",
    "_Feature"
   ],
   "window_display": false
  }
 },
 "nbformat": 4,
 "nbformat_minor": 2
}
