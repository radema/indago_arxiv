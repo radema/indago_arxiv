{
 "cells": [
  {
   "cell_type": "code",
   "execution_count": null,
   "metadata": {},
   "outputs": [],
   "source": [
    "import boto3"
   ]
  },
  {
   "cell_type": "code",
   "execution_count": null,
   "metadata": {},
   "outputs": [],
   "source": []
  }
 ],
 "metadata": {
  "hide_input": false,
  "kernelspec": {
   "display_name": "Python 3.8.1 64-bit ('arxiv': conda)",
   "language": "python",
   "name": "python38164bitarxivconda6113e4e91ff14daba7b1c8d5ca5a086d"
  }
 },
 "nbformat": 4,
 "nbformat_minor": 4
}
