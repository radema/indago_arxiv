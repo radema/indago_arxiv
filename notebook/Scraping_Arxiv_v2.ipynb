{
 "cells": [
  {
   "cell_type": "markdown",
   "metadata": {},
   "source": [
    "# Recupero dati da Arxiv tramite ArxivScraper"
   ]
  },
  {
   "cell_type": "code",
   "execution_count": 1,
   "metadata": {},
   "outputs": [],
   "source": [
    "#import the libraries\n",
    "import arxivscraper\n",
    "import pandas as pd"
   ]
  },
  {
   "cell_type": "code",
   "execution_count": 2,
   "metadata": {},
   "outputs": [],
   "source": [
    "def add_string(x,y):\n",
    "    z = int(x)+int(y)\n",
    "    if z< 10:\n",
    "        return '0'+str(z)\n",
    "    else:\n",
    "        return str(z)"
   ]
  },
  {
   "cell_type": "code",
   "execution_count": 3,
   "metadata": {},
   "outputs": [
    {
     "name": "stdout",
     "output_type": "stream",
     "text": [
      "http://export.arxiv.org/oai2?verb=ListRecords&from=2017-01-01&until=2017-01-02&metadataPrefix=arXiv&set=math\n",
      "fetching up to  1000 records...\n",
      "fetching is completed in 3.2 seconds.\n",
      "Total number of records 9\n"
     ]
    },
    {
     "ename": "NameError",
     "evalue": "name 'cols' is not defined",
     "output_type": "error",
     "traceback": [
      "\u001b[1;31m---------------------------------------------------------------------------\u001b[0m",
      "\u001b[1;31mNameError\u001b[0m                                 Traceback (most recent call last)",
      "\u001b[1;32m<ipython-input-3-78df1ea97072>\u001b[0m in \u001b[0;36m<module>\u001b[1;34m\u001b[0m\n\u001b[0;32m      2\u001b[0m scraper = arxivscraper.Scraper(category = 'math', date_from = '2017-01-01', date_until='2017-01-02', t = 30,\n\u001b[0;32m      3\u001b[0m                                filters={'categories' : ['math.ap','math.na']})\n\u001b[1;32m----> 4\u001b[1;33m \u001b[0mpd\u001b[0m\u001b[1;33m.\u001b[0m\u001b[0mDataFrame\u001b[0m\u001b[1;33m(\u001b[0m\u001b[0mscraper\u001b[0m\u001b[1;33m.\u001b[0m\u001b[0mscrape\u001b[0m\u001b[1;33m(\u001b[0m\u001b[1;33m)\u001b[0m\u001b[1;33m,\u001b[0m\u001b[0mcolumns\u001b[0m \u001b[1;33m=\u001b[0m \u001b[0mcols\u001b[0m\u001b[1;33m)\u001b[0m\u001b[1;33m.\u001b[0m\u001b[0mhead\u001b[0m\u001b[1;33m(\u001b[0m\u001b[1;36m5\u001b[0m\u001b[1;33m)\u001b[0m\u001b[1;33m\u001b[0m\u001b[1;33m\u001b[0m\u001b[0m\n\u001b[0m",
      "\u001b[1;31mNameError\u001b[0m: name 'cols' is not defined"
     ]
    }
   ],
   "source": [
    "#define the scraper instance\n",
    "scraper = arxivscraper.Scraper(category = 'math', date_from = '2017-01-01', date_until='2017-01-02', t = 30,\n",
    "                               filters={'categories' : ['math.ap','math.na']})\n",
    "pd.DataFrame(scraper.scrape(),columns = cols).head(5)"
   ]
  },
  {
   "cell_type": "code",
   "execution_count": null,
   "metadata": {},
   "outputs": [
    {
     "name": "stdout",
     "output_type": "stream",
     "text": [
      "Starting...\n",
      "http://export.arxiv.org/oai2?verb=ListRecords&from=2017-01-01&until=2017-01-16&metadataPrefix=arXiv&set=math\n",
      "fetching up to  1000 records...\n",
      "fetching up to  2000 records...\n",
      "fetching is completed in 32.4 seconds.\n",
      "Total number of records 219\n",
      "<class 'pandas.core.frame.DataFrame'>\n",
      "Int64Index: 219 entries, 0 to 218\n",
      "Data columns (total 6 columns):\n",
      "id            219 non-null object\n",
      "title         219 non-null object\n",
      "categories    219 non-null object\n",
      "abstract      219 non-null object\n",
      "updated       219 non-null object\n",
      "authors       219 non-null object\n",
      "dtypes: object(6)\n",
      "memory usage: 12.0+ KB\n",
      "None\n",
      "2017010 completed\n",
      "http://export.arxiv.org/oai2?verb=ListRecords&from=2017-01-17&until=2017-01-32&metadataPrefix=arXiv&set=math\n",
      "fetching up to  1000 records...\n",
      "fetching up to  2000 records...\n",
      "fetching up to  3000 records...\n",
      "http://export.arxiv.org/oai2?verb=ListRecords&from=2017-02-01&until=2017-02-16&metadataPrefix=arXiv&set=math\n",
      "fetching up to  1000 records...\n",
      "http://export.arxiv.org/oai2?verb=ListRecords&from=2017-02-17&until=2017-02-32&metadataPrefix=arXiv&set=math\n",
      "fetching up to  1000 records...\n"
     ]
    }
   ],
   "source": [
    "months = ['01','02','03','04','05','06','07','08','09','10','11','12']\n",
    "days = ['01','02','03','04','05','06','07','08','09','10',\n",
    "       '11','12','13','14','15','16','17','18','19','20',\n",
    "       '21','22','23','24','25','26','27','28','29','30']\n",
    "years =  ['2017']#,'2018','2019']\n",
    "cols= ('id', 'title', 'categories', 'abstract', 'updated','authors')\n",
    "df = pd.DataFrame(columns = cols)\n",
    "error_list = []\n",
    "print(\"Starting...\")\n",
    "for y in years:\n",
    "    for m in months:\n",
    "        for d in ['0','16']:\n",
    "            try:\n",
    "                #define the instance scraper\n",
    "                scraper = arxivscraper.Scraper(category = 'math', date_from = y+'-'+m+'-'+add_string(d,'1'), \n",
    "                                               date_until=y+'-'+m+'-'+add_string(d,'16'), t = 30,\n",
    "                                       filters={'categories' : ['math.ap','math.na']})\n",
    "                #adding the output to the dataset\n",
    "                output = scraper.scrape()\n",
    "                df_output = pd.DataFrame(output,columns = cols)\n",
    "                if df_output.empty ==True:\n",
    "                    pass\n",
    "                else:\n",
    "                    df = df.append(df_output)\n",
    "                    print(df.info())\n",
    "                    print(y+m+d, 'completed')\n",
    "                error_list.append([y+m+d, 'completed'])\n",
    "            except Exception as e:\n",
    "                error_list.append([y+m+d, 'failed!'])"
   ]
  },
  {
   "cell_type": "code",
   "execution_count": 26,
   "metadata": {},
   "outputs": [],
   "source": [
    "df.to_csv(\"sample_v2017.csv\")"
   ]
  },
  {
   "cell_type": "code",
   "execution_count": 6,
   "metadata": {},
   "outputs": [
    {
     "ename": "NameError",
     "evalue": "name 'df_math_ap' is not defined",
     "output_type": "error",
     "traceback": [
      "\u001b[1;31m---------------------------------------------------------------------------\u001b[0m",
      "\u001b[1;31mNameError\u001b[0m                                 Traceback (most recent call last)",
      "\u001b[1;32m<ipython-input-6-938c64e759e0>\u001b[0m in \u001b[0;36m<module>\u001b[1;34m\u001b[0m\n\u001b[1;32m----> 1\u001b[1;33m \u001b[0mdf_math_ap\u001b[0m\u001b[1;33m.\u001b[0m\u001b[0mhead\u001b[0m\u001b[1;33m(\u001b[0m\u001b[1;36m25\u001b[0m\u001b[1;33m)\u001b[0m\u001b[1;33m\u001b[0m\u001b[1;33m\u001b[0m\u001b[0m\n\u001b[0m",
      "\u001b[1;31mNameError\u001b[0m: name 'df_math_ap' is not defined"
     ]
    }
   ],
   "source": [
    "df_math_ap.head(25)"
   ]
  },
  {
   "cell_type": "code",
   "execution_count": 43,
   "metadata": {},
   "outputs": [
    {
     "name": "stdout",
     "output_type": "stream",
     "text": [
      "\n",
      "%i 1\n",
      "\n",
      "%i 2\n",
      "\n",
      "%i 3\n",
      "\n",
      "%i 4\n",
      "\n",
      "%i 5\n",
      "\n",
      "%i 6\n",
      "\n",
      "%i 7\n",
      "\n",
      "%i 8\n",
      "\n",
      "%i 9\n",
      "\n",
      "%i 10\n",
      "\n",
      "%i 11\n"
     ]
    }
   ],
   "source": [
    "for i in range(1,12):\n",
    "    print(\"\\n%i\",i)"
   ]
  },
  {
   "cell_type": "code",
   "execution_count": 8,
   "metadata": {},
   "outputs": [
    {
     "data": {
      "text/plain": [
       "'3'"
      ]
     },
     "execution_count": 8,
     "metadata": {},
     "output_type": "execute_result"
    }
   ],
   "source": [
    "x = '01'\n",
    "y = '02'\n",
    "z=int(x)+int(y)\n",
    "str(z)"
   ]
  },
  {
   "cell_type": "code",
   "execution_count": 4,
   "metadata": {},
   "outputs": [
    {
     "data": {
      "text/plain": [
       "[['2017010', 'completed'], ['20170116', 'failed!'], ['2017020', 'failed!']]"
      ]
     },
     "execution_count": 4,
     "metadata": {},
     "output_type": "execute_result"
    }
   ],
   "source": [
    "error_list"
   ]
  },
  {
   "cell_type": "code",
   "execution_count": 25,
   "metadata": {},
   "outputs": [
    {
     "name": "stdout",
     "output_type": "stream",
     "text": [
      "<class 'pandas.core.frame.DataFrame'>\n",
      "Int64Index: 1126 entries, 0 to 311\n",
      "Data columns (total 6 columns):\n",
      "id            1126 non-null object\n",
      "title         1126 non-null object\n",
      "categories    1126 non-null object\n",
      "abstract      1126 non-null object\n",
      "updated       1126 non-null object\n",
      "authors       1126 non-null object\n",
      "dtypes: object(6)\n",
      "memory usage: 61.6+ KB\n"
     ]
    }
   ],
   "source": [
    "df.info()"
   ]
  },
  {
   "cell_type": "code",
   "execution_count": 6,
   "metadata": {},
   "outputs": [
    {
     "name": "stdout",
     "output_type": "stream",
     "text": [
      "Requirement already satisfied: arxivscraper in d:\\users\\rdemaio\\appdata\\local\\continuum\\anaconda3\\lib\\site-packages (0.0.3)\n",
      "Note: you may need to restart the kernel to use updated packages.\n"
     ]
    }
   ],
   "source": [
    "pip install arxivscraper"
   ]
  },
  {
   "cell_type": "code",
   "execution_count": null,
   "metadata": {},
   "outputs": [],
   "source": []
  }
 ],
 "metadata": {
  "hide_input": false,
  "kernelspec": {
   "display_name": "Python 3",
   "language": "python",
   "name": "python3"
  },
  "language_info": {
   "codemirror_mode": {
    "name": "ipython",
    "version": 3
   },
   "file_extension": ".py",
   "mimetype": "text/x-python",
   "name": "python",
   "nbconvert_exporter": "python",
   "pygments_lexer": "ipython3",
   "version": "3.7.3"
  },
  "latex_envs": {
   "LaTeX_envs_menu_present": true,
   "autoclose": false,
   "autocomplete": true,
   "bibliofile": "biblio.bib",
   "cite_by": "apalike",
   "current_citInitial": 1,
   "eqLabelWithNumbers": true,
   "eqNumInitial": 1,
   "hotkeys": {
    "equation": "Ctrl-E",
    "itemize": "Ctrl-I"
   },
   "labels_anchors": false,
   "latex_user_defs": false,
   "report_style_numbering": false,
   "user_envs_cfg": false
  },
  "varInspector": {
   "cols": {
    "lenName": 16,
    "lenType": 16,
    "lenVar": 40
   },
   "kernels_config": {
    "python": {
     "delete_cmd_postfix": "",
     "delete_cmd_prefix": "del ",
     "library": "var_list.py",
     "varRefreshCmd": "print(var_dic_list())"
    },
    "r": {
     "delete_cmd_postfix": ") ",
     "delete_cmd_prefix": "rm(",
     "library": "var_list.r",
     "varRefreshCmd": "cat(var_dic_list()) "
    }
   },
   "types_to_exclude": [
    "module",
    "function",
    "builtin_function_or_method",
    "instance",
    "_Feature"
   ],
   "window_display": false
  }
 },
 "nbformat": 4,
 "nbformat_minor": 2
}
